{
 "cells": [
  {
   "cell_type": "markdown",
   "id": "a3c551ba-e0aa-4c41-bf79-9d8245c2c829",
   "metadata": {},
   "source": [
    "# Archery Secret\n",
    "Generates, encrypt, decrypt and verify secrets."
   ]
  },
  {
   "cell_type": "markdown",
   "id": "f6b168d2-8350-4b30-9494-757de1e347fc",
   "metadata": {},
   "source": [
    "### Imports an settings"
   ]
  },
  {
   "cell_type": "code",
   "execution_count": 1,
   "id": "87f9f4bf-5ce3-4b0f-a6aa-87431441fc4f",
   "metadata": {},
   "outputs": [],
   "source": [
    "from archery_secret import Secret\n",
    "secret = Secret()\n",
    "message = 'My_most_hidden_secret'"
   ]
  },
  {
   "cell_type": "markdown",
   "id": "eec12a38-57d0-45cd-acdb-1b49de2a5663",
   "metadata": {},
   "source": [
    "#### Generate randomic secret"
   ]
  },
  {
   "cell_type": "code",
   "execution_count": 2,
   "id": "94355211-cb17-49b5-affb-3dfe481553b2",
   "metadata": {},
   "outputs": [
    {
     "data": {
      "text/plain": [
       "'1gCQ2woLpMModRQM5IACVmsPTg0DwyHKC8Uc3Hv1l9c='"
      ]
     },
     "execution_count": 2,
     "metadata": {},
     "output_type": "execute_result"
    }
   ],
   "source": [
    "secret.randomic"
   ]
  },
  {
   "cell_type": "markdown",
   "id": "d93d78d7-9157-4a85-83d6-f38c8845e5d7",
   "metadata": {},
   "source": [
    "#### Encrypt message"
   ]
  },
  {
   "cell_type": "code",
   "execution_count": 3,
   "id": "c549b24d-74b3-4443-ae6f-874b573b15af",
   "metadata": {},
   "outputs": [
    {
     "data": {
      "text/plain": [
       "'gAAAAABgcgtp04bvCeXzyJLyPraaU_7RTlkr8ummKpU7dCwVvwMOFWdVeZqBpfmaw4vs9i7_l8RJtYdLdW-FaVjirGBfmTEjY6s_aLg42qcUNmrTVQSKonU='"
      ]
     },
     "execution_count": 3,
     "metadata": {},
     "output_type": "execute_result"
    }
   ],
   "source": [
    "encrypt = secret.encrypt(message)\n",
    "encrypt"
   ]
  },
  {
   "cell_type": "markdown",
   "id": "b9cb4699-3235-49b1-a42c-cc0f2aad301d",
   "metadata": {},
   "source": [
    "#### Decrypt message"
   ]
  },
  {
   "cell_type": "code",
   "execution_count": 4,
   "id": "1d332586-2ab1-4e9f-9f7d-76a3941462d5",
   "metadata": {},
   "outputs": [
    {
     "data": {
      "text/plain": [
       "'My_most_hidden_secret'"
      ]
     },
     "execution_count": 4,
     "metadata": {},
     "output_type": "execute_result"
    }
   ],
   "source": [
    "secret.decrypt(encrypt)"
   ]
  },
  {
   "cell_type": "markdown",
   "id": "e0a416df-654a-427c-be99-984d57a15c63",
   "metadata": {},
   "source": [
    "#### Generate hash"
   ]
  },
  {
   "cell_type": "code",
   "execution_count": 5,
   "id": "0431efaf-507f-41d6-a4ca-67139986b180",
   "metadata": {},
   "outputs": [
    {
     "data": {
      "text/plain": [
       "'zXHhR0+pQvwXIKME0Flt5w$R07seRvxgP5shOjnheapLQ'"
      ]
     },
     "execution_count": 5,
     "metadata": {},
     "output_type": "execute_result"
    }
   ],
   "source": [
    "hash = secret.generate(message)\n",
    "hash"
   ]
  },
  {
   "cell_type": "markdown",
   "id": "59ec3d02-3501-42d8-9818-acdf427024cf",
   "metadata": {},
   "source": [
    "#### Verify hash"
   ]
  },
  {
   "cell_type": "code",
   "execution_count": 6,
   "id": "44a60867-8952-45ac-bb41-76a798462e6c",
   "metadata": {},
   "outputs": [
    {
     "data": {
      "text/plain": [
       "True"
      ]
     },
     "execution_count": 6,
     "metadata": {},
     "output_type": "execute_result"
    }
   ],
   "source": [
    "secret.verify(hash, message)"
   ]
  },
  {
   "cell_type": "markdown",
   "id": "50c1b8fa-63a0-4cf0-8786-4b4c820dbfc9",
   "metadata": {},
   "source": [
    "#### Wrong hash"
   ]
  },
  {
   "cell_type": "code",
   "execution_count": 7,
   "id": "08ff4882-2adf-41a3-9dcc-3772b983a325",
   "metadata": {},
   "outputs": [
    {
     "data": {
      "text/plain": [
       "False"
      ]
     },
     "execution_count": 7,
     "metadata": {},
     "output_type": "execute_result"
    }
   ],
   "source": [
    "secret.verify(hash, 'other message')"
   ]
  }
 ],
 "metadata": {
  "kernelspec": {
   "display_name": "Python 3",
   "language": "python",
   "name": "python3"
  },
  "language_info": {
   "codemirror_mode": {
    "name": "ipython",
    "version": 3
   },
   "file_extension": ".py",
   "mimetype": "text/x-python",
   "name": "python",
   "nbconvert_exporter": "python",
   "pygments_lexer": "ipython3",
   "version": "3.9.2"
  }
 },
 "nbformat": 4,
 "nbformat_minor": 5
}
